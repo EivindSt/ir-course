{
 "cells": [
  {
   "cell_type": "markdown",
   "metadata": {},
   "source": [
    "# Text preprocessing"
   ]
  },
  {
   "cell_type": "code",
   "execution_count": null,
   "metadata": {},
   "outputs": [],
   "source": [
    "import ipytest\n",
    "\n",
    "ipytest.autoconfig()"
   ]
  },
  {
   "cell_type": "markdown",
   "metadata": {},
   "source": [
    "## Task 1: Tokenization\n",
    "\n",
    "Split an input text into tokens based on whitespaces, punctuation, hyphens, and HTML markup. Additionally, lowercase all tokens."
   ]
  },
  {
   "cell_type": "code",
   "execution_count": null,
   "metadata": {},
   "outputs": [],
   "source": [
    "def tokenize(text):    \n",
    "    \"\"\"Returns a sequence of terms given an input text.\"\"\"\n",
    "    # TODO\n",
    "    return []"
   ]
  },
  {
   "cell_type": "markdown",
   "metadata": {},
   "source": [
    "Tests."
   ]
  },
  {
   "cell_type": "code",
   "execution_count": null,
   "metadata": {},
   "outputs": [],
   "source": [
    "%%run_pytest[clean]\n",
    "\n",
    "def test_whitespace():\n",
    "    assert tokenize('aaa bbb ccc') == ['aaa', 'bbb', 'ccc']\n",
    "    \n",
    "def test_punctuation():\n",
    "    assert tokenize('aaa! bbb.ccc,ddd:eee ff\\'f') == ['aaa', 'bbb', 'ccc', 'ddd', 'eee', 'ff', 'f']\n",
    "    \n",
    "def test_hyphens():\n",
    "    assert tokenize('aaa bbb-Ccc') == ['aaa', 'bbb', 'ccc']\n",
    "    \n",
    "def test_html():\n",
    "    assert tokenize('aaa <bbb>ccc <ddd>eee</ddd></bbb>fff <ggg />') == ['aaa', 'ccc', 'eee', 'fff']"
   ]
  },
  {
   "cell_type": "markdown",
   "metadata": {},
   "source": [
    "## Task 2: Stopwords removal\n",
    "\n",
    "Remove stopwords from a sequence of tokens, given a set of stopwords."
   ]
  },
  {
   "cell_type": "code",
   "execution_count": null,
   "metadata": {},
   "outputs": [],
   "source": [
    "def remove_stopwords(tokens, stopwords):\n",
    "    \"\"\"Removes stopwords from a sequence of tokens.\"\"\"\n",
    "    # TODO\n",
    "    return []"
   ]
  },
  {
   "cell_type": "markdown",
   "metadata": {},
   "source": [
    "Tests."
   ]
  },
  {
   "cell_type": "code",
   "execution_count": null,
   "metadata": {},
   "outputs": [],
   "source": [
    "%%run_pytest[clean]\n",
    "\n",
    "def test_no_stopwords():\n",
    "    assert remove_stopwords(['this', 'is', 'some', 'text'], {}) == ['this', 'is', 'some', 'text']\n",
    "    \n",
    "def test_stopwords():\n",
    "    assert remove_stopwords(['this', 'is', 'some', 'text'], {'is', 'this'}) == ['some', 'text']\n",
    "    \n",
    "def test_stopwords2():\n",
    "    assert remove_stopwords(['this', 'isolate', 'otto'], {'is', 'this', 'to'}) == ['isolate', 'otto']    "
   ]
  },
  {
   "cell_type": "markdown",
   "metadata": {},
   "source": [
    "## Task 3: Suffix-s stemming\n",
    "\n",
    "Remove the s-suffix from all terms in a sequence."
   ]
  },
  {
   "cell_type": "code",
   "execution_count": null,
   "metadata": {},
   "outputs": [],
   "source": [
    "def suffix_s_stemmer(terms):\n",
    "    \"\"\"Removes the s-suffix from all terms in a sequence.\"\"\"\n",
    "    # TODO\n",
    "    return []"
   ]
  },
  {
   "cell_type": "markdown",
   "metadata": {},
   "source": [
    "Tests."
   ]
  },
  {
   "cell_type": "code",
   "execution_count": null,
   "metadata": {},
   "outputs": [],
   "source": [
    "%%run_pytest[clean]\n",
    "\n",
    "def test_stemming():\n",
    "    assert suffix_s_stemmer(['dogs', 'better', 'cats']) == ['dog', 'better', 'cat']"
   ]
  }
 ],
 "metadata": {
  "kernelspec": {
   "display_name": "Python 3",
   "language": "python",
   "name": "python3"
  },
  "language_info": {
   "codemirror_mode": {
    "name": "ipython",
    "version": 3
   },
   "file_extension": ".py",
   "mimetype": "text/x-python",
   "name": "python",
   "nbconvert_exporter": "python",
   "pygments_lexer": "ipython3",
   "version": "3.7.4"
  }
 },
 "nbformat": 4,
 "nbformat_minor": 2
}
