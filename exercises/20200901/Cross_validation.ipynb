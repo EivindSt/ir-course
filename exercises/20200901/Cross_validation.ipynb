{
 "cells": [
  {
   "cell_type": "markdown",
   "metadata": {},
   "source": [
    "# Cross-validation"
   ]
  },
  {
   "cell_type": "code",
   "execution_count": 1,
   "metadata": {},
   "outputs": [],
   "source": [
    "import ipytest\n",
    "\n",
    "ipytest.autoconfig()"
   ]
  },
  {
   "cell_type": "markdown",
   "metadata": {},
   "source": [
    "## Task\n",
    "\n",
    "Given a set of instances (by their IDs), divide them into k folds to perform cross-validation.\n",
    "\n",
    "Each fold should enumerate the instances for the train and test splits."
   ]
  },
  {
   "cell_type": "code",
   "execution_count": 2,
   "metadata": {},
   "outputs": [],
   "source": [
    "def create_folds(instances, k=5):\n",
    "    \"\"\"Given a set of instances, it returns k splits of train and test.\"\"\"\n",
    "    folds = []\n",
    "    for i in range(k):\n",
    "        # TODO\n",
    "        folds.append({\n",
    "            'train': [], \n",
    "            'test': []\n",
    "        })\n",
    "    return folds"
   ]
  },
  {
   "cell_type": "markdown",
   "metadata": {},
   "source": [
    "### Tests\n",
    "\n",
    "Part of the exercise is to create the tests. \n",
    "\n",
    "  - One test should test converage, that is, check that all instances are part of exactly one validation fold and k-1 train folds.\n",
    "  - Another test should checks that the folds are sufficiently random, i.e., that you're not always returning the exact same partitioning of instances."
   ]
  },
  {
   "cell_type": "code",
   "execution_count": 3,
   "metadata": {},
   "outputs": [
    {
     "name": "stdout",
     "output_type": "stream",
     "text": [
      "..                                                                                 [100%]\n",
      "2 passed in 0.02s\n"
     ]
    }
   ],
   "source": [
    "%%run_pytest[clean]\n",
    "\n",
    "def test_coverage():\n",
    "    # TODO: this is for you to complete\n",
    "    assert 0 == 0    \n",
    "def test_randomization():\n",
    "    # TODO: this is for you to complete\n",
    "    assert 0 == 0"
   ]
  }
 ],
 "metadata": {
  "kernelspec": {
   "display_name": "Python 3",
   "language": "python",
   "name": "python3"
  },
  "language_info": {
   "codemirror_mode": {
    "name": "ipython",
    "version": 3
   },
   "file_extension": ".py",
   "mimetype": "text/x-python",
   "name": "python",
   "nbconvert_exporter": "python",
   "pygments_lexer": "ipython3",
   "version": "3.7.4"
  }
 },
 "nbformat": 4,
 "nbformat_minor": 2
}
