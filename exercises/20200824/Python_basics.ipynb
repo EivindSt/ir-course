{
 "cells": [
  {
   "cell_type": "markdown",
   "metadata": {},
   "source": [
    "# Python basics\n",
    "\n",
    "The objective of this exercise is to help you familiarize yourself with the environment that'll be used throughout this course.\n",
    "\n",
    "This course will assume that you have at least a basic familiarity with programming in Python. You can consider this exercise a simple test of your Python knowledge. If you manage to complete the tasks, you should have no issues with the programming side of things; otherwise ...\n",
    "\n",
    "Exercises will assume that you have Python 3.6+ installed using the Anaconda distribution.\n",
    "\n",
    "Additionally, you need to install the `ipytest` package, which adds magic commands that make it easier to define tests directly inside a notebook using the standard unittest framework. You can install it either using [conda](https://anaconda.org/conda-forge/ipytest) or using pip: `pip install ipytest`. "
   ]
  },
  {
   "cell_type": "code",
   "execution_count": null,
   "metadata": {},
   "outputs": [],
   "source": [
    "import ipytest\n",
    "ipytest.autoconfig()"
   ]
  },
  {
   "cell_type": "markdown",
   "metadata": {},
   "source": [
    "## Task 1\n",
    "\n",
    "Write a method that checks whether a string is a [palindrome](https://en.wikipedia.org/wiki/Palindrome).\n",
    "Testing should be done case-insensitive.\n",
    "(Note: an empty string is also a palindrome, since it \"reads\" the same forward and backward.)"
   ]
  },
  {
   "cell_type": "code",
   "execution_count": null,
   "metadata": {},
   "outputs": [],
   "source": [
    "def is_palindrome(text):\n",
    "    # TODO: complete this method.\n",
    "    return True"
   ]
  },
  {
   "cell_type": "markdown",
   "metadata": {},
   "source": [
    "Test your implementation."
   ]
  },
  {
   "cell_type": "code",
   "execution_count": null,
   "metadata": {},
   "outputs": [],
   "source": [
    "%%run_pytest[clean]\n",
    "\n",
    "def test_empty_string():\n",
    "    assert is_palindrome(\"\") == True\n",
    "    \n",
    "def test_single_character():\n",
    "    assert is_palindrome(\"a\") == True\n",
    "\n",
    "def test_same_characters():\n",
    "    assert is_palindrome(\"aa\") == True\n",
    "    \n",
    "def test_not_palindrome_even():\n",
    "    assert is_palindrome(\"ab\") == False\n",
    "\n",
    "def test_not_palindrome_odd():\n",
    "    assert is_palindrome(\"abc\") == False\n",
    "    \n",
    "def test_palindrome_even():\n",
    "    assert is_palindrome(\"abba\") == True\n",
    "    \n",
    "def test_palindrome_odd():\n",
    "    assert is_palindrome(\"aba\") == True\n",
    "\n",
    "def test_palindrome_even_cased():\n",
    "    assert is_palindrome(\"AbBa\") == True\n",
    "    \n",
    "def test_palindrome_odd_cased():\n",
    "    assert is_palindrome(\"abA\") == True\n"
   ]
  },
  {
   "cell_type": "markdown",
   "metadata": {},
   "source": [
    "## Task 2\n",
    "\n",
    "Given a list of strings, return the string that appears most frequently in the list. In case there are multiple such strings, return the one that appeared first in the list. For an empty input list, return a None value."
   ]
  },
  {
   "cell_type": "code",
   "execution_count": null,
   "metadata": {},
   "outputs": [],
   "source": [
    "def get_most_frequent_element(lst):\n",
    "    # TODO: complete this method.\n",
    "    return None"
   ]
  },
  {
   "cell_type": "markdown",
   "metadata": {},
   "source": [
    "Test your implementation."
   ]
  },
  {
   "cell_type": "code",
   "execution_count": null,
   "metadata": {},
   "outputs": [],
   "source": [
    "%%run_pytest[clean]\n",
    "\n",
    "def test_empty_list():\n",
    "    assert get_most_frequent_element([]) == None\n",
    "\n",
    "def test_single_element():\n",
    "    assert get_most_frequent_element(['a']) == 'a'\n",
    "\n",
    "def test_two_elements():\n",
    "    assert get_most_frequent_element(['a', 'b', 'b']) == 'b'\n",
    "\n",
    "def test_ties():\n",
    "    assert get_most_frequent_element(['a', 'b', 'b', 'c', 'b', 'a', 'd', 'c', 'c']) == 'b'    "
   ]
  }
 ],
 "metadata": {
  "kernelspec": {
   "display_name": "Python 3",
   "language": "python",
   "name": "python3"
  },
  "language_info": {
   "codemirror_mode": {
    "name": "ipython",
    "version": 3
   },
   "file_extension": ".py",
   "mimetype": "text/x-python",
   "name": "python",
   "nbconvert_exporter": "python",
   "pygments_lexer": "ipython3",
   "version": "3.7.4"
  }
 },
 "nbformat": 4,
 "nbformat_minor": 2
}
