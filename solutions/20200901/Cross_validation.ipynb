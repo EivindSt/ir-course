{
 "cells": [
  {
   "cell_type": "markdown",
   "metadata": {},
   "source": [
    "# Cross-validation"
   ]
  },
  {
   "cell_type": "code",
   "execution_count": 1,
   "metadata": {},
   "outputs": [],
   "source": [
    "import ipytest\n",
    "import numpy as np\n",
    "import random\n",
    "\n",
    "ipytest.autoconfig()"
   ]
  },
  {
   "cell_type": "markdown",
   "metadata": {},
   "source": [
    "## Task\n",
    "\n",
    "Given a set of instances (by their IDs), divide them into k folds to perform cross-validation.\n",
    "\n",
    "Each fold should enumerate the instances for the train and test splits."
   ]
  },
  {
   "cell_type": "code",
   "execution_count": 2,
   "metadata": {},
   "outputs": [],
   "source": [
    "def create_folds(instances, k=5):\n",
    "    \"\"\"Given a set of instances, it returns k splits of train and test.\"\"\"\n",
    "    # Shuffle instances (by first making a copy of them).\n",
    "    instances_shuffled = list(instances)\n",
    "    random.shuffle(instances_shuffled)\n",
    "\n",
    "    folds = []\n",
    "    for fold_id in range(k):\n",
    "        train, test = [], []\n",
    "        for i in range(len(instances_shuffled)):\n",
    "            if i % k == fold_id:\n",
    "                test.append(instances_shuffled[i])\n",
    "            else:\n",
    "                train.append(instances_shuffled[i])\n",
    "        \n",
    "        folds.append({\n",
    "            'train': train, \n",
    "            'test': test\n",
    "        })\n",
    "    return folds"
   ]
  },
  {
   "cell_type": "markdown",
   "metadata": {},
   "source": [
    "### Tests\n",
    "\n",
    "One simple test is provided, which merely checks if the required number of folds is generated and that each contains the correct number of train and test instances.\n",
    "\n",
    "Part of the exercise is to create some more advanced tests. \n",
    "\n",
    "  - One test should test converage, that is, check that all instances are part of exactly one test fold and k-1 train folds.\n",
    "  - Another test should checks that the folds are sufficiently random, i.e., that you're not always returning the exact same partitioning of instances."
   ]
  },
  {
   "cell_type": "code",
   "execution_count": 3,
   "metadata": {},
   "outputs": [
    {
     "name": "stdout",
     "output_type": "stream",
     "text": [
      "...                                                                                [100%]\n",
      "3 passed in 0.15s\n"
     ]
    }
   ],
   "source": [
    "%%run_pytest[clean]\n",
    "\n",
    "def test_fold_size():\n",
    "    instances = list(range(100))\n",
    "    folds = create_folds(instances, k=5)\n",
    "    assert len(folds) == 5\n",
    "    for fold in folds:\n",
    "        assert len(fold['train']) == 80\n",
    "        assert len(fold['test']) == 20\n",
    "  \n",
    "def test_coverage():\n",
    "    instances = list(range(100))\n",
    "    k = 5\n",
    "    folds = create_folds(instances, k=k)\n",
    "    in_train_fold = {}  # How many times each instance is in a train fold\n",
    "    in_test_fold = {}  # How many times each instance is in a test fold\n",
    "    for fold in folds:\n",
    "        for instance in fold['train']:\n",
    "            in_train_fold[instance] = in_train_fold.get(instance, 0) + 1\n",
    "        for instance in fold['test']:\n",
    "            in_test_fold[instance] = in_test_fold.get(instance, 0) + 1        \n",
    "    \n",
    "    for instance in instances:\n",
    "        assert (instance in in_train_fold) == True\n",
    "        assert in_train_fold[instance] == k - 1\n",
    "        assert (instance in in_test_fold) == True\n",
    "        assert in_test_fold[instance] == 1\n",
    "    \n",
    "def test_randomization():\n",
    "    instances = list(range(100))\n",
    "    k = 5\n",
    "    # Keeps track of which test fold the instance was part.\n",
    "    # This should be roughly uniformly distributed\n",
    "    in_test_fold = [[0] * k for _ in instances]\n",
    "    for _ in range(1000):\n",
    "        folds = create_folds(instances, k=k)\n",
    "        for fold_id, fold in enumerate(folds):\n",
    "            for instance in fold['test']:\n",
    "                in_test_fold[instance][fold_id] += 1\n",
    "    \n",
    "    for fold_distribution in in_test_fold:\n",
    "        assert np.std(fold_distribution) < 30"
   ]
  }
 ],
 "metadata": {
  "kernelspec": {
   "display_name": "Python 3",
   "language": "python",
   "name": "python3"
  },
  "language_info": {
   "codemirror_mode": {
    "name": "ipython",
    "version": 3
   },
   "file_extension": ".py",
   "mimetype": "text/x-python",
   "name": "python",
   "nbconvert_exporter": "python",
   "pygments_lexer": "ipython3",
   "version": "3.7.4"
  }
 },
 "nbformat": 4,
 "nbformat_minor": 2
}
